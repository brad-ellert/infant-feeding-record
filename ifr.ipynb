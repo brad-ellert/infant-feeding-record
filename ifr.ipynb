{
 "cells": [
  {
   "cell_type": "code",
   "execution_count": null,
   "metadata": {},
   "outputs": [],
   "source": [
    "import pandas as pd\n",
    "\n",
    "# put data into Pandas DataFrame\n",
    "df = pd.read_csv('ifr.csv')\n",
    "\n",
    "# keep only columns \"Date\", \"Time\", and \"feed\"\n",
    "df = df[['Date', 'Time', 'feed']]\n",
    "\n",
    "# convert to DateTime\n",
    "df['datetime'] = pd.to_datetime(df['Date'] + ' ' + df['Time'])\n",
    "df.set_index('datetime', inplace=True)\n",
    "\n",
    "# delete Date and Time columns\n",
    "df = df.drop(columns=['Date', 'Time'])\n",
    "\n",
    "# drop rows with NaN\n",
    "df = df.dropna()\n",
    "\n",
    "# aggregate by summing feed for each day\n",
    "df_day = df.resample('D').sum()\n",
    "\n",
    "# find minimum daily feed after January 17, 2023\n",
    "min_after = df_day[df_day.index >= '2023-01-17']['feed'].min()\n",
    "\n",
    "# find earlier values lower than this minimum\n",
    "lower_values = df_day[df_day['feed'] < min_after]\n",
    "\n",
    "# find datetime of maximum of lower_values\n",
    "cutoff = lower_values['feed'].idxmax()\n",
    "\n",
    "# aggregate by summing feed for each 4 hours\n",
    "df = df.resample('4H').sum()\n",
    "\n",
    "# get rid of data before cutoff\n",
    "df_cut = df[df.index >= cutoff + pd.Timedelta('1D')]"
   ]
  },
  {
   "cell_type": "code",
   "execution_count": null,
   "metadata": {},
   "outputs": [],
   "source": [
    "# print the DataFrame\n",
    "print(df)\n",
    "print(df_day)\n",
    "print(min_after)\n",
    "print(lower_values)\n",
    "print(cutoff)\n",
    "print(cutoff  + pd.Timedelta('1D'))\n",
    "print(df_cut)"
   ]
  },
  {
   "cell_type": "code",
   "execution_count": null,
   "metadata": {},
   "outputs": [],
   "source": [
    "from statsmodels.tsa.forecasting.theta import ThetaModel\n",
    "import matplotlib.pyplot as plt\n",
    "\n",
    "# fit the model\n",
    "model = ThetaModel(df)\n",
    "model_results = model.fit()\n",
    "\n",
    "# plot a prediction\n",
    "model_results.plot_predict(100, in_sample=True, alpha=None)\n",
    "\n",
    "# add a title\n",
    "plt.title('Infant Feeding Record')\n",
    "\n",
    "# add a legend\n",
    "plt.legend(['Observed', 'Predicted'])\n",
    "\n",
    "# add a label to the x-axis\n",
    "plt.xlabel('Date')\n",
    "\n",
    "# add a label to the y-axis\n",
    "plt.ylabel('Amount (mL)')\n",
    "\n",
    "# make the plot twice as wide\n",
    "plt.gcf().set_size_inches(12, 6)\n",
    "\n",
    "# add horizontal grid lines\n",
    "plt.grid(axis='y')\n",
    "\n",
    "# change x-axis to days elapsed\n",
    "\n",
    "# show the plot\n",
    "plt.show()\n",
    "\n",
    "# do the same for the cut data\n",
    "model_cut = ThetaModel(df_cut)\n",
    "model_cut_results = model_cut.fit()\n",
    "model_cut_results.plot_predict(100, in_sample=True, alpha=None)\n",
    "plt.title('Infant Feeding Record')\n",
    "plt.legend(['Observed', 'Predicted'])\n",
    "plt.xlabel('Date')\n",
    "plt.ylabel('Amount (mL)')\n",
    "plt.gcf().set_size_inches(12, 6)\n",
    "plt.grid(axis='y')\n",
    "plt.show()"
   ]
  }
 ],
 "metadata": {
  "kernelspec": {
   "display_name": "Python 3",
   "language": "python",
   "name": "python3"
  },
  "language_info": {
   "codemirror_mode": {
    "name": "ipython",
    "version": 3
   },
   "file_extension": ".py",
   "mimetype": "text/x-python",
   "name": "python",
   "nbconvert_exporter": "python",
   "pygments_lexer": "ipython3",
   "version": "3.8.10"
  },
  "orig_nbformat": 4,
  "vscode": {
   "interpreter": {
    "hash": "916dbcbb3f70747c44a77c7bcd40155683ae19c65e1c03b4aa3499c5328201f1"
   }
  }
 },
 "nbformat": 4,
 "nbformat_minor": 2
}
